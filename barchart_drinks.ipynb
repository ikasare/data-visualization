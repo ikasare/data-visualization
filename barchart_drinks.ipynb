{
 "cells": [
  {
   "cell_type": "code",
   "execution_count": 24,
   "metadata": {},
   "outputs": [
    {
     "data": {
      "image/png": "[encoded data removed]",
      "text/plain": [
       "<Figure size 432x288 with 1 Axes>"
      ]
     },
     "metadata": {
      "needs_background": "light"
     },
     "output_type": "display_data"
    },
    {
     "name": "stdout",
     "output_type": "stream",
     "text": [
      "       country  beer_servings  spirit_servings  wine_servings  \\\n",
      "2      algeria             25                0             14   \n",
      "66       ghana             31                3             10   \n",
      "36       china             79              192              8   \n",
      "61      france            127              151            370   \n",
      "160      spain            284              157            112   \n",
      "42     croatia            230               87            254   \n",
      "154  singapore             60               12             11   \n",
      "\n",
      "     total_litres_of_pure_alcohol  \n",
      "2                             0.7  \n",
      "66                            1.8  \n",
      "36                            5.0  \n",
      "61                           11.8  \n",
      "160                          10.0  \n",
      "42                           10.2  \n",
      "154                           1.5  \n"
     ]
    }
   ],
   "source": [
    "import pandas as pd\n",
    "import matplotlib.pyplot as plt\n",
    "data = pd.read_csv('drinks.csv')\n",
    "\n",
    "algeria = data[data.country == \"algeria\"]\n",
    "ghana = data[data.country == \"ghana\"]\n",
    "china = data[data.country == \"china\"]\n",
    "france = data[data.country == \"france\"]\n",
    "germany = data[data.country == \"germany \"]\n",
    "spain = data[data.country == \"spain\"]\n",
    "croatia = data[data.country == \"croatia\"]\n",
    "singapore = data[data.country == \"singapore\"]\n",
    "\n",
    "colors = ['green','black', 'red', 'blue', 'yellow', 'teal', 'pink']\n",
    "\n",
    "\n",
    "drinks = pd.concat([algeria, ghana, china, france, germany, spain, croatia,singapore])\n",
    "\n",
    "plt.bar(drinks.country,drinks.beer_servings, color=colors)\n",
    "plt.title('Countries And The Amount Of Beer They Consume')\n",
    "plt.xlabel('Countries')\n",
    "plt.ylabel('Beer Amount')\n",
    "\n",
    "plt.show()\n",
    "print(drinks)\n",
    "\n"
   ]
  },
  {
   "cell_type": "code",
   "execution_count": null,
   "metadata": {},
   "outputs": [],
   "source": []
  }
 ],
 "metadata": {
  "kernelspec": {
   "display_name": "Python 3",
   "language": "python",
   "name": "python3"
  },
  "language_info": {
   "codemirror_mode": {
    "name": "ipython",
    "version": 3
   },
   "file_extension": ".py",
   "mimetype": "text/x-python",
   "name": "python",
   "nbconvert_exporter": "python",
   "pygments_lexer": "ipython3",
   "version": "3.6.9"
  }
 },
 "nbformat": 4,
 "nbformat_minor": 2
}
